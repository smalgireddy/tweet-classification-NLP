{
 "cells": [
  {
   "cell_type": "code",
   "execution_count": 1,
   "metadata": {
    "collapsed": true
   },
   "outputs": [],
   "source": [
    "import re\n",
    "import os\n",
    "import numpy as np\n",
    "import pandas as pd\n",
    "import matplotlib.pyplot as plt\n",
    "import json"
   ]
  },
  {
   "cell_type": "code",
   "execution_count": 3,
   "metadata": {
    "collapsed": true
   },
   "outputs": [],
   "source": [
    "#json reading using pandas\n",
    "tweets_pd = pd.read_json('classified_tweets_latest.json', orient='columns')"
   ]
  },
  {
   "cell_type": "code",
   "execution_count": 4,
   "metadata": {},
   "outputs": [],
   "source": [
    "tweets_pd.head()\n",
    "tweets_text = (tweets_pd['tweet'].apply(lambda tweet : eval(tweet))).apply(lambda tweet : tweet['text'])\n",
    "tweets_pd = tweets_pd.assign(tweets_text = tweets_text)"
   ]
  },
  {
   "cell_type": "code",
   "execution_count": 5,
   "metadata": {},
   "outputs": [
    {
     "name": "stdout",
     "output_type": "stream",
     "text": [
      "(7294, 16)\n"
     ]
    }
   ],
   "source": [
    "#missing values checking for label_data\n",
    "tweets_pd = tweets_pd.loc[tweets_pd['food'] != 'None']\n",
    "tweets_pd = tweets_pd.loc[tweets_pd['label_data'] != '']\n",
    "print(tweets_pd.shape)"
   ]
  },
  {
   "cell_type": "code",
   "execution_count": 6,
   "metadata": {},
   "outputs": [
    {
     "name": "stdout",
     "output_type": "stream",
     "text": [
      "  borne class  conf  count exercise food label_data  runid  \\\n",
      "0  None  FOOD     1      1     None    1       junk      1   \n",
      "1  None  FOOD     1      1     None    1  unhealthy      1   \n",
      "2  None  FOOD     1      1     None    1       junk      1   \n",
      "\n",
      "                 stamp                                             status  \\\n",
      "0  2017-01-26 06:37:29  @NicholasUnder @machineiv  dip them alive in m...   \n",
      "1  2017-01-26 06:37:30  Looking forward to the weekend so i can eat my...   \n",
      "2  2017-01-26 06:37:30                                Baking soda that is   \n",
      "\n",
      "  statusvec                        time  \\\n",
      "0      None  2017-06-05 22:49:46.662565   \n",
      "1      None  2017-06-05 22:49:47.360769   \n",
      "2      None  2017-06-05 22:50:17.088828   \n",
      "\n",
      "                                               tweet             tweetid  \\\n",
      "0  {'retweet_count': 0, 'favorited': False, 'crea...  824506529873350656   \n",
      "1  {'retweet_count': 0, 'favorited': False, 'crea...  824506531941117952   \n",
      "2  {'retweet_count': 0, 'favorited': False, 'crea...  824506533295775744   \n",
      "\n",
      "    userid                                        tweets_text  \n",
      "0  jason_a  dip them alive in melted chocolate and encase ...  \n",
      "1  jason_a  Looking forward to the weekend so i can eat my...  \n",
      "2  jason_a                                Baking soda that is  \n"
     ]
    }
   ],
   "source": [
    "tweets_pd['label_data'] = tweets_pd.label_data.str.lower()\n",
    "tweets_pd['tweets_text'] = tweets_pd.tweets_text.apply(lambda x: ' '.join(re.sub(r\"(@[A-Za-z0-9]+)|([^0-9A-Za-z \\t])|(\\w+:\\/\\/\\S+)\",'',x).split()))\n",
    "print(tweets_pd.head(3))"
   ]
  },
  {
   "cell_type": "code",
   "execution_count": 7,
   "metadata": {},
   "outputs": [],
   "source": [
    "#after removing special characters, we left with plain data with alphanumeric characters\n",
    "#seperate the data based on their class\n",
    "tweets_pd_food = tweets_pd.loc[tweets_pd.food == '1']\n",
    "tweets_pd_borne = tweets_pd.loc[tweets_pd.borne == '1']\n",
    "tweets_pd_exercies = tweets_pd.loc[tweets_pd.exercise == '1']"
   ]
  },
  {
   "cell_type": "code",
   "execution_count": 8,
   "metadata": {},
   "outputs": [],
   "source": [
    "#tweets_pd.loc[tweets_pd.food == '1']"
   ]
  },
  {
   "cell_type": "code",
   "execution_count": 9,
   "metadata": {},
   "outputs": [
    {
     "name": "stdout",
     "output_type": "stream",
     "text": [
      "tweets with food dataframe shape is (7294, 16)\n",
      "tweets with borne dataframe shape is (470, 16)\n",
      "tweets with exercises dataframe shape is (2201, 16)\n"
     ]
    }
   ],
   "source": [
    "print(\"tweets with food dataframe shape is {}\".format(tweets_pd_food.shape))\n",
    "print(\"tweets with borne dataframe shape is {}\".format(tweets_pd_borne.shape))\n",
    "print(\"tweets with exercises dataframe shape is {}\".format(tweets_pd_exercies.shape))"
   ]
  },
  {
   "cell_type": "code",
   "execution_count": 10,
   "metadata": {
    "collapsed": true
   },
   "outputs": [],
   "source": [
    "#shrink the data frame with independent features i.e. tweets text"
   ]
  },
  {
   "cell_type": "code",
   "execution_count": 11,
   "metadata": {
    "collapsed": true
   },
   "outputs": [],
   "source": [
    "pd_792017 = pd.read_json('07292017.json', orient='columns')\n",
    "pd_8022017 = pd.read_json('08022017.json', orient='columns')\n",
    "pd_8072017 = pd.read_json('08072017.json', orient='columns')\n",
    "pd_8082017 = pd.read_json('08082017.json', orient='columns')\n",
    "pd_8242017 = pd.read_json('08242017.json', orient='columns')"
   ]
  },
  {
   "cell_type": "code",
   "execution_count": 12,
   "metadata": {
    "collapsed": true
   },
   "outputs": [],
   "source": [
    "tweets_data = pd.concat([pd_792017, pd_8022017, pd_8072017, pd_8082017, pd_8242017], ignore_index=True)\n",
    "tweets_data_text = (tweets_data.tweet.apply(lambda tweet: eval(tweet))).apply(lambda text: text['text'])"
   ]
  },
  {
   "cell_type": "code",
   "execution_count": 13,
   "metadata": {},
   "outputs": [],
   "source": [
    "#data with 9 columns\n",
    "tweets_data = tweets_data.assign(tweets_data_text = tweets_data_text)\n",
    "#tweets_data_text.head()\n",
    "#change the labels into category codes\n",
    "tweets_data.food = tweets_data.food.astype(\"category\")"
   ]
  },
  {
   "cell_type": "code",
   "execution_count": 14,
   "metadata": {},
   "outputs": [
    {
     "name": "stdout",
     "output_type": "stream",
     "text": [
      "(28246, 10)\n",
      "data with labels 26922\n",
      "removing data without labels\n",
      "after removing the shape of the data is(26922, 10)\n"
     ]
    }
   ],
   "source": [
    "print(tweets_data.shape)\n",
    "#remove the tweets without label_data\n",
    "print(\"data with labels {}\".format(sum(tweets_data['label_data'] != '')))\n",
    "print(\"removing data without labels\")\n",
    "#missing values checking for label_data\n",
    "tweets_data = tweets_data.loc[tweets_data['label_data'] != '']\n",
    "print(\"after removing the shape of the data is{}\".format(tweets_data.shape))"
   ]
  },
  {
   "cell_type": "code",
   "execution_count": 15,
   "metadata": {},
   "outputs": [
    {
     "data": {
      "text/html": [
       "<div>\n",
       "<style>\n",
       "    .dataframe thead tr:only-child th {\n",
       "        text-align: right;\n",
       "    }\n",
       "\n",
       "    .dataframe thead th {\n",
       "        text-align: left;\n",
       "    }\n",
       "\n",
       "    .dataframe tbody tr th {\n",
       "        vertical-align: top;\n",
       "    }\n",
       "</style>\n",
       "<table border=\"1\" class=\"dataframe\">\n",
       "  <thead>\n",
       "    <tr style=\"text-align: right;\">\n",
       "      <th></th>\n",
       "      <th>borne</th>\n",
       "      <th>exercise</th>\n",
       "      <th>food</th>\n",
       "      <th>label_data</th>\n",
       "      <th>runid</th>\n",
       "      <th>time</th>\n",
       "      <th>tweet</th>\n",
       "      <th>tweetid</th>\n",
       "      <th>userid</th>\n",
       "      <th>tweets_data_text</th>\n",
       "    </tr>\n",
       "  </thead>\n",
       "  <tbody>\n",
       "    <tr>\n",
       "      <th>0</th>\n",
       "      <td>1</td>\n",
       "      <td>0</td>\n",
       "      <td>0</td>\n",
       "      <td>Irrelevant</td>\n",
       "      <td>1</td>\n",
       "      <td>2017-07-21T21:56:12.794351</td>\n",
       "      <td>{'coordinates': None, 'filter_level': 'low', '...</td>\n",
       "      <td>822483724524625921</td>\n",
       "      <td>jason_a</td>\n",
       "      <td>RT @_skull_queen_: So..... has anyone ever act...</td>\n",
       "    </tr>\n",
       "    <tr>\n",
       "      <th>1</th>\n",
       "      <td>1</td>\n",
       "      <td>0</td>\n",
       "      <td>0</td>\n",
       "      <td>Irrelevant</td>\n",
       "      <td>1</td>\n",
       "      <td>2017-07-21T21:56:12.794351</td>\n",
       "      <td>{'coordinates': None, 'filter_level': 'low', '...</td>\n",
       "      <td>822513204706349056</td>\n",
       "      <td>jason_a</td>\n",
       "      <td>RT @_skull_queen_: So..... has anyone ever act...</td>\n",
       "    </tr>\n",
       "    <tr>\n",
       "      <th>2</th>\n",
       "      <td>1</td>\n",
       "      <td>0</td>\n",
       "      <td>0</td>\n",
       "      <td>Irrelevant</td>\n",
       "      <td>1</td>\n",
       "      <td>2017-07-21T21:56:12.794351</td>\n",
       "      <td>{'coordinates': None, 'filter_level': 'low', '...</td>\n",
       "      <td>822551023067795458</td>\n",
       "      <td>jason_a</td>\n",
       "      <td>RT @_skull_queen_: So..... has anyone ever act...</td>\n",
       "    </tr>\n",
       "  </tbody>\n",
       "</table>\n",
       "</div>"
      ],
      "text/plain": [
       "   borne  exercise food  label_data  runid                        time  \\\n",
       "0      1         0    0  Irrelevant      1  2017-07-21T21:56:12.794351   \n",
       "1      1         0    0  Irrelevant      1  2017-07-21T21:56:12.794351   \n",
       "2      1         0    0  Irrelevant      1  2017-07-21T21:56:12.794351   \n",
       "\n",
       "                                               tweet             tweetid  \\\n",
       "0  {'coordinates': None, 'filter_level': 'low', '...  822483724524625921   \n",
       "1  {'coordinates': None, 'filter_level': 'low', '...  822513204706349056   \n",
       "2  {'coordinates': None, 'filter_level': 'low', '...  822551023067795458   \n",
       "\n",
       "    userid                                   tweets_data_text  \n",
       "0  jason_a  RT @_skull_queen_: So..... has anyone ever act...  \n",
       "1  jason_a  RT @_skull_queen_: So..... has anyone ever act...  \n",
       "2  jason_a  RT @_skull_queen_: So..... has anyone ever act...  "
      ]
     },
     "execution_count": 15,
     "metadata": {},
     "output_type": "execute_result"
    }
   ],
   "source": [
    "tweets_data.head(3)"
   ]
  },
  {
   "cell_type": "code",
   "execution_count": 16,
   "metadata": {},
   "outputs": [
    {
     "name": "stdout",
     "output_type": "stream",
     "text": [
      "0    RT @_skull_queen_: So..... has anyone ever act...\n",
      "1    RT @_skull_queen_: So..... has anyone ever act...\n",
      "2    RT @_skull_queen_: So..... has anyone ever act...\n",
      "3    RT @_skull_queen_: So..... has anyone ever act...\n",
      "4    RT @_skull_queen_: So..... has anyone ever act...\n",
      "Name: tweets_data_text, dtype: object\n"
     ]
    }
   ],
   "source": [
    "tweets_data['label_data'] = tweets_data.label_data.str.lower()\n",
    "tweets_data['tweets_text'] = tweets_data.tweets_data_text.apply(lambda x: ' '.join(re.sub(r\"(@[A-Za-z0-9]+)|([^0-9A-Za-z \\t])|(\\w+:\\/\\/\\S+)\",'',x).split()))\n",
    "print(tweets_data.tweets_data_text.head())"
   ]
  },
  {
   "cell_type": "code",
   "execution_count": 17,
   "metadata": {},
   "outputs": [],
   "source": [
    "#after removing special characters, we left with plain data with alphanumeric characters\n",
    "#seperate the data based on their class\n",
    "tweets_data_food = tweets_data.loc[tweets_data.food == 1]\n",
    "tweets_data_borne = tweets_data.loc[tweets_data.borne == 1]\n",
    "tweets_data_exercies = tweets_data.loc[tweets_data.exercise == 1]"
   ]
  },
  {
   "cell_type": "code",
   "execution_count": 18,
   "metadata": {},
   "outputs": [
    {
     "name": "stdout",
     "output_type": "stream",
     "text": [
      "tweets with food dataframe shape is (12210, 11)\n",
      "tweets with borne dataframe shape is (16080, 11)\n",
      "tweets with exercises dataframe shape is (268, 11)\n"
     ]
    }
   ],
   "source": [
    "print(\"tweets with food dataframe shape is {}\".format(tweets_data_food.shape))\n",
    "print(\"tweets with borne dataframe shape is {}\".format(tweets_data_borne.shape))\n",
    "print(\"tweets with exercises dataframe shape is {}\".format(tweets_data_exercies.shape))"
   ]
  },
  {
   "cell_type": "code",
   "execution_count": 19,
   "metadata": {},
   "outputs": [],
   "source": [
    "tweets_data_food = tweets_data_food[['label_data','tweets_text']]\n",
    "tweets_data_borne = tweets_data_borne[['label_data','tweets_text']]\n",
    "tweets_data_exercies = tweets_data_exercies[['label_data','tweets_text']]\n",
    "tweets_pd_food = tweets_pd_food[['label_data','tweets_text']]\n",
    "tweets_pd_borne = tweets_pd_borne[['label_data','tweets_text']]\n",
    "tweets_pd_exercies = tweets_pd_exercies[['label_data','tweets_text']]"
   ]
  },
  {
   "cell_type": "code",
   "execution_count": 22,
   "metadata": {},
   "outputs": [],
   "source": [
    "tweets_food = pd.concat([tweets_data_food, tweets_pd_food])\n",
    "tweets_borne = pd.concat([tweets_data_borne, tweets_pd_borne])\n",
    "tweets_exercies = pd.concat([tweets_data_exercies, tweets_pd_exercies])"
   ]
  },
  {
   "cell_type": "code",
   "execution_count": 23,
   "metadata": {},
   "outputs": [
    {
     "name": "stdout",
     "output_type": "stream",
     "text": [
      "tweets with food dataframe shape is (19504, 2)\n",
      "tweets with borne dataframe shape is (16550, 2)\n",
      "tweets with exercises dataframe shape is (2469, 2)\n"
     ]
    }
   ],
   "source": [
    "print(\"tweets with food dataframe shape is {}\".format(tweets_food.shape))\n",
    "print(\"tweets with borne dataframe shape is {}\".format(tweets_borne.shape))\n",
    "print(\"tweets with exercises dataframe shape is {}\".format(tweets_exercies.shape))"
   ]
  },
  {
   "cell_type": "code",
   "execution_count": 40,
   "metadata": {},
   "outputs": [],
   "source": [
    "#'healthy','unhealthy','junk','relevant','irrelevant'\n",
    "food_labels = ['healthy','unhealthy','junk']\n",
    "borne_labels = exercise_labels = ['junk','relevant','irrelevant']"
   ]
  },
  {
   "cell_type": "code",
   "execution_count": 44,
   "metadata": {},
   "outputs": [],
   "source": [
    "tweets_food = tweets_food.loc[tweets_food.label_data.isin(food_labels)]\n",
    "tweets_borne = tweets_borne.loc[tweets_borne.label_data.isin(borne_labels)]\n",
    "tweets_exercies = tweets_exercies.loc[tweets_exercies.label_data.isin(exercise_labels)]\n",
    "\n",
    "#tweets_data_food.label_data.value_counts()"
   ]
  },
  {
   "cell_type": "code",
   "execution_count": 47,
   "metadata": {},
   "outputs": [
    {
     "data": {
      "image/png": "[encoded data removed]",
      "text/plain": [
       "<matplotlib.figure.Figure at 0x7f2123414f28>"
      ]
     },
     "metadata": {},
     "output_type": "display_data"
    }
   ],
   "source": [
    "food_label_count = tweets_food.label_data.value_counts()\n",
    "food_label_count.plot(kind = 'bar', rot=3)\n",
    "plt.show()"
   ]
  },
  {
   "cell_type": "code",
   "execution_count": 50,
   "metadata": {},
   "outputs": [
    {
     "data": {
      "image/png": "[encoded data removed]",
      "text/plain": [
       "<matplotlib.figure.Figure at 0x7f21234a1f28>"
      ]
     },
     "metadata": {},
     "output_type": "display_data"
    }
   ],
   "source": [
    "borne_label_count = tweets_borne.label_data.value_counts()\n",
    "borne_label_count.plot(kind = 'bar', rot=3)\n",
    "plt.show()"
   ]
  },
  {
   "cell_type": "code",
   "execution_count": 51,
   "metadata": {},
   "outputs": [
    {
     "data": {
      "image/png": "[encoded data removed]",
      "text/plain": [
       "<matplotlib.figure.Figure at 0x7f21234322b0>"
      ]
     },
     "metadata": {},
     "output_type": "display_data"
    }
   ],
   "source": [
    "exercies_label_count = tweets_exercies.label_data.value_counts()\n",
    "exercies_label_count.plot(kind = 'bar', rot=3)\n",
    "plt.show()"
   ]
  },
  {
   "cell_type": "code",
   "execution_count": 52,
   "metadata": {
    "collapsed": true
   },
   "outputs": [],
   "source": [
    "# scrapping tweets text\n",
    "from sklearn.feature_extraction.text import CountVectorizer\n",
    "from sklearn.feature_extraction.text import TfidfVectorizer\n",
    "from nltk.tokenize import TweetTokenizer,RegexpTokenizer\n",
    "from nltk.tokenize import RegexpTokenizer\n",
    "\n",
    "from sklearn.decomposition import TruncatedSVD\n",
    "import nltk\n",
    "import gensim"
   ]
  },
  {
   "cell_type": "markdown",
   "metadata": {},
   "source": [
    "## Feature Extraction from tweet text:\n",
    "### counvectorizer steps for text formatting\n",
    "### tep1: ialization, fit_tranforming, transforming"
   ]
  },
  {
   "cell_type": "code",
   "execution_count": 53,
   "metadata": {
    "collapsed": true
   },
   "outputs": [],
   "source": [
    "count_vectorizer = CountVectorizer(analyzer=\"word\",tokenizer=nltk.word_tokenize, stop_words='english', max_df= 0.5, min_df=2,ngram_range=(1,3), max_features=None)"
   ]
  },
  {
   "cell_type": "code",
   "execution_count": 54,
   "metadata": {
    "collapsed": true
   },
   "outputs": [],
   "source": [
    "def twTokenizer(text):\n",
    "    tokenizer = RegexpTokenizer(r'\\w+')\n",
    "    return tokenizer.tokenize(text)"
   ]
  },
  {
   "cell_type": "code",
   "execution_count": 55,
   "metadata": {
    "collapsed": true
   },
   "outputs": [],
   "source": [
    "bag_of_words = count_vectorizer.fit_transform(tweets_food['tweets_text'])"
   ]
  },
  {
   "cell_type": "code",
   "execution_count": 56,
   "metadata": {},
   "outputs": [
    {
     "data": {
      "text/plain": [
       "{'analyzer': 'word',\n",
       " 'binary': False,\n",
       " 'decode_error': 'strict',\n",
       " 'dtype': numpy.int64,\n",
       " 'encoding': 'utf-8',\n",
       " 'input': 'content',\n",
       " 'lowercase': True,\n",
       " 'max_df': 0.5,\n",
       " 'max_features': None,\n",
       " 'min_df': 2,\n",
       " 'ngram_range': (1, 3),\n",
       " 'preprocessor': None,\n",
       " 'stop_words': 'english',\n",
       " 'strip_accents': None,\n",
       " 'token_pattern': '(?u)\\\\b\\\\w\\\\w+\\\\b',\n",
       " 'tokenizer': <function nltk.tokenize.word_tokenize>,\n",
       " 'vocabulary': None}"
      ]
     },
     "execution_count": 56,
     "metadata": {},
     "output_type": "execute_result"
    }
   ],
   "source": [
    "count_vectorizer.get_params()"
   ]
  },
  {
   "cell_type": "code",
   "execution_count": 58,
   "metadata": {},
   "outputs": [],
   "source": [
    "tweet_text_dtm = count_vectorizer.transform(tweets_food['tweets_text'])"
   ]
  },
  {
   "cell_type": "code",
   "execution_count": 59,
   "metadata": {},
   "outputs": [
    {
     "data": {
      "text/plain": [
       "scipy.sparse.csr.csr_matrix"
      ]
     },
     "execution_count": 59,
     "metadata": {},
     "output_type": "execute_result"
    }
   ],
   "source": [
    "type(tweet_text_dtm) #numpy doesnt support sparse type of matrix\n",
    "#bag of words conversion means converting documents into tokens and then counting term frequencies and then normalization,\n",
    "#we camt tell the position of words"
   ]
  },
  {
   "cell_type": "code",
   "execution_count": 60,
   "metadata": {},
   "outputs": [
    {
     "data": {
      "text/plain": [
       "array(['healthy', 'junk', 'unhealthy'], dtype=object)"
      ]
     },
     "execution_count": 60,
     "metadata": {},
     "output_type": "execute_result"
    }
   ],
   "source": [
    "#print(tweet_text_dtm) stores the coordinates of non zero values\n",
    "#approach2 label emcoder scikit - learning\n",
    "from sklearn.preprocessing import LabelEncoder\n",
    "encoder = LabelEncoder()\n",
    "tweets_food['label_data'] = encoder.fit_transform(tweets_food['label_data'])\n",
    "encoder.classes_\n",
    "#food_tweets_pd['label_data'] =  food_tweets_pd['label_data'].astype('category')\n",
    "#food_tweets_pd['label_data'] = food_tweets_pd['label_data'].cat.codes"
   ]
  },
  {
   "cell_type": "code",
   "execution_count": 69,
   "metadata": {},
   "outputs": [
    {
     "data": {
      "text/plain": [
       "(17894, 2)"
      ]
     },
     "execution_count": 69,
     "metadata": {},
     "output_type": "execute_result"
    }
   ],
   "source": [
    "tweets_food.shape\n",
    "#encoder.fit_transform(food_tweets_pd['label_data'])"
   ]
  },
  {
   "cell_type": "code",
   "execution_count": 62,
   "metadata": {},
   "outputs": [
    {
     "data": {
      "text/html": [
       "<div>\n",
       "<style>\n",
       "    .dataframe thead tr:only-child th {\n",
       "        text-align: right;\n",
       "    }\n",
       "\n",
       "    .dataframe thead th {\n",
       "        text-align: left;\n",
       "    }\n",
       "\n",
       "    .dataframe tbody tr th {\n",
       "        vertical-align: top;\n",
       "    }\n",
       "</style>\n",
       "<table border=\"1\" class=\"dataframe\">\n",
       "  <thead>\n",
       "    <tr style=\"text-align: right;\">\n",
       "      <th></th>\n",
       "      <th>0</th>\n",
       "      <th>0 classes</th>\n",
       "      <th>0 classes pizza</th>\n",
       "      <th>0120</th>\n",
       "      <th>0121</th>\n",
       "      <th>0121 mugla</th>\n",
       "      <th>0121 mugla turkey</th>\n",
       "      <th>0126</th>\n",
       "      <th>1</th>\n",
       "      <th>1 2</th>\n",
       "      <th>...</th>\n",
       "      <th>zima sick</th>\n",
       "      <th>zima sick kids</th>\n",
       "      <th>zimataco</th>\n",
       "      <th>zimataco fundraiser</th>\n",
       "      <th>zimataco fundraiser happening</th>\n",
       "      <th>zinc</th>\n",
       "      <th>zinc poisoning</th>\n",
       "      <th>zinc poisoning vomitted</th>\n",
       "      <th>zone</th>\n",
       "      <th>zucchini</th>\n",
       "    </tr>\n",
       "  </thead>\n",
       "  <tbody>\n",
       "    <tr>\n",
       "      <th>0</th>\n",
       "      <td>0</td>\n",
       "      <td>0</td>\n",
       "      <td>0</td>\n",
       "      <td>0</td>\n",
       "      <td>0</td>\n",
       "      <td>0</td>\n",
       "      <td>0</td>\n",
       "      <td>0</td>\n",
       "      <td>0</td>\n",
       "      <td>0</td>\n",
       "      <td>...</td>\n",
       "      <td>0</td>\n",
       "      <td>0</td>\n",
       "      <td>0</td>\n",
       "      <td>0</td>\n",
       "      <td>0</td>\n",
       "      <td>0</td>\n",
       "      <td>0</td>\n",
       "      <td>0</td>\n",
       "      <td>0</td>\n",
       "      <td>0</td>\n",
       "    </tr>\n",
       "    <tr>\n",
       "      <th>1</th>\n",
       "      <td>0</td>\n",
       "      <td>0</td>\n",
       "      <td>0</td>\n",
       "      <td>0</td>\n",
       "      <td>0</td>\n",
       "      <td>0</td>\n",
       "      <td>0</td>\n",
       "      <td>0</td>\n",
       "      <td>0</td>\n",
       "      <td>0</td>\n",
       "      <td>...</td>\n",
       "      <td>0</td>\n",
       "      <td>0</td>\n",
       "      <td>0</td>\n",
       "      <td>0</td>\n",
       "      <td>0</td>\n",
       "      <td>0</td>\n",
       "      <td>0</td>\n",
       "      <td>0</td>\n",
       "      <td>0</td>\n",
       "      <td>0</td>\n",
       "    </tr>\n",
       "    <tr>\n",
       "      <th>2</th>\n",
       "      <td>0</td>\n",
       "      <td>0</td>\n",
       "      <td>0</td>\n",
       "      <td>0</td>\n",
       "      <td>0</td>\n",
       "      <td>0</td>\n",
       "      <td>0</td>\n",
       "      <td>0</td>\n",
       "      <td>0</td>\n",
       "      <td>0</td>\n",
       "      <td>...</td>\n",
       "      <td>0</td>\n",
       "      <td>0</td>\n",
       "      <td>0</td>\n",
       "      <td>0</td>\n",
       "      <td>0</td>\n",
       "      <td>0</td>\n",
       "      <td>0</td>\n",
       "      <td>0</td>\n",
       "      <td>0</td>\n",
       "      <td>0</td>\n",
       "    </tr>\n",
       "    <tr>\n",
       "      <th>3</th>\n",
       "      <td>0</td>\n",
       "      <td>0</td>\n",
       "      <td>0</td>\n",
       "      <td>0</td>\n",
       "      <td>0</td>\n",
       "      <td>0</td>\n",
       "      <td>0</td>\n",
       "      <td>0</td>\n",
       "      <td>0</td>\n",
       "      <td>0</td>\n",
       "      <td>...</td>\n",
       "      <td>0</td>\n",
       "      <td>0</td>\n",
       "      <td>0</td>\n",
       "      <td>0</td>\n",
       "      <td>0</td>\n",
       "      <td>0</td>\n",
       "      <td>0</td>\n",
       "      <td>0</td>\n",
       "      <td>0</td>\n",
       "      <td>0</td>\n",
       "    </tr>\n",
       "    <tr>\n",
       "      <th>4</th>\n",
       "      <td>0</td>\n",
       "      <td>0</td>\n",
       "      <td>0</td>\n",
       "      <td>0</td>\n",
       "      <td>0</td>\n",
       "      <td>0</td>\n",
       "      <td>0</td>\n",
       "      <td>0</td>\n",
       "      <td>0</td>\n",
       "      <td>0</td>\n",
       "      <td>...</td>\n",
       "      <td>0</td>\n",
       "      <td>0</td>\n",
       "      <td>0</td>\n",
       "      <td>0</td>\n",
       "      <td>0</td>\n",
       "      <td>0</td>\n",
       "      <td>0</td>\n",
       "      <td>0</td>\n",
       "      <td>0</td>\n",
       "      <td>0</td>\n",
       "    </tr>\n",
       "  </tbody>\n",
       "</table>\n",
       "<p>5 rows × 30893 columns</p>\n",
       "</div>"
      ],
      "text/plain": [
       "   0  0 classes  0 classes pizza  0120  0121  0121 mugla  0121 mugla turkey  \\\n",
       "0  0          0                0     0     0           0                  0   \n",
       "1  0          0                0     0     0           0                  0   \n",
       "2  0          0                0     0     0           0                  0   \n",
       "3  0          0                0     0     0           0                  0   \n",
       "4  0          0                0     0     0           0                  0   \n",
       "\n",
       "   0126  1  1 2    ...     zima sick  zima sick kids  zimataco  \\\n",
       "0     0  0    0    ...             0               0         0   \n",
       "1     0  0    0    ...             0               0         0   \n",
       "2     0  0    0    ...             0               0         0   \n",
       "3     0  0    0    ...             0               0         0   \n",
       "4     0  0    0    ...             0               0         0   \n",
       "\n",
       "   zimataco fundraiser  zimataco fundraiser happening  zinc  zinc poisoning  \\\n",
       "0                    0                              0     0               0   \n",
       "1                    0                              0     0               0   \n",
       "2                    0                              0     0               0   \n",
       "3                    0                              0     0               0   \n",
       "4                    0                              0     0               0   \n",
       "\n",
       "   zinc poisoning vomitted  zone  zucchini  \n",
       "0                        0     0         0  \n",
       "1                        0     0         0  \n",
       "2                        0     0         0  \n",
       "3                        0     0         0  \n",
       "4                        0     0         0  \n",
       "\n",
       "[5 rows x 30893 columns]"
      ]
     },
     "execution_count": 62,
     "metadata": {},
     "output_type": "execute_result"
    }
   ],
   "source": [
    "pd.DataFrame(tweet_text_dtm.toarray(), columns=count_vectorizer.get_feature_names()).head()"
   ]
  },
  {
   "cell_type": "code",
   "execution_count": 63,
   "metadata": {
    "collapsed": true
   },
   "outputs": [],
   "source": [
    "#svd = TruncatedSVD(n_components=25, n_iter=25, random_state=12)\n",
    "#truncated_bag_of_words = svd.fit_transform(bag_of_words)\n",
    "#truncated_bag_of_words"
   ]
  },
  {
   "cell_type": "code",
   "execution_count": 70,
   "metadata": {},
   "outputs": [],
   "source": [
    "X = pd.DataFrame(tweet_text_dtm.toarray(), columns=count_vectorizer.get_feature_names())\n",
    "Y = tweets_food.label_data"
   ]
  },
  {
   "cell_type": "code",
   "execution_count": 71,
   "metadata": {},
   "outputs": [
    {
     "name": "stdout",
     "output_type": "stream",
     "text": [
      "(17894, 30893)\n",
      "(17894,)\n"
     ]
    }
   ],
   "source": [
    "print(X.shape)\n",
    "print(Y.shape)"
   ]
  },
  {
   "cell_type": "code",
   "execution_count": 72,
   "metadata": {},
   "outputs": [],
   "source": [
    "from sklearn.cross_validation import train_test_split\n",
    "from sklearn.model_selection import GridSearchCV\n",
    "from sklearn.feature_extraction.text import TfidfTransformer\n",
    "from sklearn.svm import SVC\n",
    "from sklearn.metrics import confusion_matrix\n",
    "from sklearn import metrics"
   ]
  },
  {
   "cell_type": "code",
   "execution_count": 73,
   "metadata": {},
   "outputs": [
    {
     "name": "stdout",
     "output_type": "stream",
     "text": [
      "(14315, 30893)\n",
      "(14315,)\n",
      "(3579, 30893)\n",
      "(3579, 30893)\n"
     ]
    }
   ],
   "source": [
    "train_x, test_x, train_y, test_y = train_test_split(X, Y, test_size = 0.2) \n",
    "print(train_x.shape)\n",
    "print(train_y.shape)\n",
    "print(test_x.shape)\n",
    "print(test_x.shape)"
   ]
  },
  {
   "cell_type": "code",
   "execution_count": 74,
   "metadata": {
    "collapsed": true
   },
   "outputs": [],
   "source": [
    "tfidf_transformer = TfidfTransformer()\n",
    "Train_x = tfidf_transformer.fit_transform(train_x)\n",
    "Test_x = tfidf_transformer.fit_transform(test_x)"
   ]
  },
  {
   "cell_type": "code",
   "execution_count": 78,
   "metadata": {},
   "outputs": [
    {
     "data": {
      "text/plain": [
       "SVC(C=20000, cache_size=200, class_weight=None, coef0=0.0,\n",
       "  decision_function_shape='ovr', degree=3, gamma='auto', kernel='sigmoid',\n",
       "  max_iter=-1, probability=False, random_state=None, shrinking=True,\n",
       "  tol=0.001, verbose=False)"
      ]
     },
     "execution_count": 78,
     "metadata": {},
     "output_type": "execute_result"
    }
   ],
   "source": [
    "svm = SVC(C=20000, gamma= 'auto', kernel='sigmoid')\n",
    "svm.fit(Train_x, train_y)\n",
    "pred = svm.predict(Test_x)"
   ]
  },
  {
   "cell_type": "code",
   "execution_count": 84,
   "metadata": {},
   "outputs": [
    {
     "name": "stdout",
     "output_type": "stream",
     "text": [
      "accuracy of the model is 0.8709136630343671\n",
      "f1 score of SVM is 0.8702041016216253\n",
      "precision score of SVM is 0.8709128573504161\n"
     ]
    }
   ],
   "source": [
    "print(\"accuracy of the model is {}\".format(svm.score(Test_x, test_y)))\n",
    "print('f1 score of SVM is {}'.format(metrics.f1_score(test_y, pred, average='weighted')))\n",
    "print('precision score of SVM is {}'.format(metrics.precision_score(test_y, pred, average=\"weighted\")))"
   ]
  },
  {
   "cell_type": "code",
   "execution_count": 83,
   "metadata": {
    "collapsed": true
   },
   "outputs": [],
   "source": [
    "#parameter tuning \n",
    "def svc_param_selection(X, y, nfolds):\n",
    "    Cs = [0.001, 0.01, 0.1, 1, 10]\n",
    "    gammas = [0.001, 0.01, 0.1, 1]\n",
    "    param_grid = {'C': Cs, 'gamma' : gammas}\n",
    "    grid_search = GridSearchCV(SVC(kernel='rbf'), param_grid, cv=nfolds)\n",
    "    grid_search.fit(X, y)\n",
    "    grid_search.best_params_\n",
    "    return grid_search.best_params_"
   ]
  },
  {
   "cell_type": "code",
   "execution_count": 85,
   "metadata": {
    "collapsed": true
   },
   "outputs": [],
   "source": [
    "params = svc_param_selection(Train_x, train_y,5)"
   ]
  },
  {
   "cell_type": "code",
   "execution_count": 91,
   "metadata": {},
   "outputs": [],
   "source": [
    "final_svm = SVC(kernel='rbf', C=10, gamma = 1)\n",
    "final_svm.fit(Train_x, train_y)\n",
    "pred = final_svm.predict(Test_x)"
   ]
  },
  {
   "cell_type": "code",
   "execution_count": 92,
   "metadata": {},
   "outputs": [
    {
     "name": "stdout",
     "output_type": "stream",
     "text": [
      "accuracy of the model is 0.8717518860016764\n",
      "f1 score of SVM is 0.8712638397449042\n",
      "precision score of SVM is 0.8727825578307669\n"
     ]
    }
   ],
   "source": [
    "print(\"accuracy of the model is {}\".format(final_svm.score(Test_x, test_y)))\n",
    "print('f1 score of SVM is {}'.format(metrics.f1_score(test_y, pred, average='weighted')))\n",
    "print('precision score of SVM is {}'.format(metrics.precision_score(test_y, pred, average=\"weighted\")))"
   ]
  },
  {
   "cell_type": "code",
   "execution_count": 94,
   "metadata": {
    "collapsed": true
   },
   "outputs": [],
   "source": [
    "from sklearn.ensemble import RandomForestClassifier"
   ]
  },
  {
   "cell_type": "code",
   "execution_count": 104,
   "metadata": {},
   "outputs": [
    {
     "data": {
      "text/plain": [
       "RandomForestClassifier(bootstrap=True, class_weight=None, criterion='entropy',\n",
       "            max_depth=None, max_features='auto', max_leaf_nodes=None,\n",
       "            min_impurity_decrease=0.0, min_impurity_split=None,\n",
       "            min_samples_leaf=1, min_samples_split=2,\n",
       "            min_weight_fraction_leaf=0.0, n_estimators=500, n_jobs=-1,\n",
       "            oob_score=False, random_state=1, verbose=0, warm_start=False)"
      ]
     },
     "execution_count": 104,
     "metadata": {},
     "output_type": "execute_result"
    }
   ],
   "source": [
    "# Initialize a Random Forest classifier with 100 trees\n",
    "forest = RandomForestClassifier(n_estimators = 500, criterion='entropy', n_jobs = -1, random_state = 1) \n",
    "forest.fit(Train_x, train_y)"
   ]
  },
  {
   "cell_type": "code",
   "execution_count": 106,
   "metadata": {},
   "outputs": [
    {
     "data": {
      "text/plain": [
       "0.85023749650740432"
      ]
     },
     "execution_count": 106,
     "metadata": {},
     "output_type": "execute_result"
    }
   ],
   "source": [
    "pred_forest = forest.predict(Test_x)\n",
    "metrics.accuracy_score(test_y, pred_forest)"
   ]
  },
  {
   "cell_type": "code",
   "execution_count": 108,
   "metadata": {},
   "outputs": [
    {
     "name": "stdout",
     "output_type": "stream",
     "text": [
      "f1 score of RF is 0.851170085955279\n",
      "precision score of RF is 0.8561436251516155\n"
     ]
    }
   ],
   "source": [
    "#svm.support_vectors_\n",
    "pred = forest.predict(Test_x)\n",
    "print('f1 score of RF is {}'.format(metrics.f1_score(test_y, pred, average='weighted')))\n",
    "print('precision score of RF is {}'.format(metrics.precision_score(test_y, pred, average=\"weighted\")))"
   ]
  },
  {
   "cell_type": "markdown",
   "metadata": {
    "collapsed": true
   },
   "source": [
    "## borne tweet analysis"
   ]
  },
  {
   "cell_type": "code",
   "execution_count": 86,
   "metadata": {
    "collapsed": true
   },
   "outputs": [],
   "source": [
    "def getTransformedData(df, count_vectorizer):\n",
    "    encoder = LabelEncoder()\n",
    "    bag_of_words = count_vectorizer.fit_transform(df['tweets_text'])\n",
    "    tweet_text_dtm = count_vectorizer.transform(df['tweets_text'])\n",
    "    X = pd.DataFrame(tweet_text_dtm.toarray(), columns=count_vectorizer.get_feature_names())\n",
    "    Y = df.label_data\n",
    "    return X, Y\n",
    "    "
   ]
  },
  {
   "cell_type": "code",
   "execution_count": 110,
   "metadata": {},
   "outputs": [
    {
     "data": {
      "text/plain": [
       "array(['irrelevant', 'junk', 'relevant'], dtype=object)"
      ]
     },
     "execution_count": 110,
     "metadata": {},
     "output_type": "execute_result"
    }
   ],
   "source": [
    "count_vectorizer = CountVectorizer(analyzer=\"word\",tokenizer=nltk.word_tokenize, stop_words='english', max_df= 0.5, min_df=2,ngram_range=(1,3), max_features=None)\n",
    "encoder = LabelEncoder()\n",
    "tweets_borne['label_data'] = encoder.fit_transform(tweets_borne['label_data'])\n",
    "encoder.classes_"
   ]
  },
  {
   "cell_type": "code",
   "execution_count": 112,
   "metadata": {},
   "outputs": [],
   "source": [
    "X, Y = getTransformedData(tweets_borne, count_vectorizer)"
   ]
  },
  {
   "cell_type": "code",
   "execution_count": 115,
   "metadata": {},
   "outputs": [
    {
     "name": "stdout",
     "output_type": "stream",
     "text": [
      "(15505, 25466)\n",
      "(15505,)\n",
      "(12404, 25466)\n",
      "(12404,)\n",
      "(3101, 25466)\n",
      "(3101,)\n"
     ]
    }
   ],
   "source": [
    "print(X.shape)\n",
    "print(Y.shape)\n",
    "train_x, test_x, train_y, test_y = train_test_split(X, Y, test_size = 0.2) \n",
    "print(train_x.shape)\n",
    "print(train_y.shape)\n",
    "print(test_x.shape)\n",
    "print(test_y.shape)"
   ]
  },
  {
   "cell_type": "code",
   "execution_count": null,
   "metadata": {
    "collapsed": true
   },
   "outputs": [],
   "source": []
  },
  {
   "cell_type": "code",
   "execution_count": 117,
   "metadata": {
    "collapsed": true
   },
   "outputs": [],
   "source": [
    "#TF-IDF transformation\n",
    "tfidf_transformer = TfidfTransformer()\n",
    "Train_x = tfidf_transformer.fit_transform(train_x)\n",
    "Test_x = tfidf_transformer.fit_transform(test_x)"
   ]
  },
  {
   "cell_type": "code",
   "execution_count": 118,
   "metadata": {},
   "outputs": [],
   "source": [
    "borne_svm = SVC(kernel='rbf', C=10, gamma = 1)\n",
    "borne_svm.fit(Train_x, train_y)\n",
    "pred = borne_svm.predict(Test_x)"
   ]
  },
  {
   "cell_type": "code",
   "execution_count": 119,
   "metadata": {},
   "outputs": [
    {
     "name": "stdout",
     "output_type": "stream",
     "text": [
      "accuracy of the model is 0.9435665914221218\n",
      "f1 score of SVM is 0.9428651290807247\n",
      "precision score of SVM is 0.9436799529419932\n"
     ]
    }
   ],
   "source": [
    "print(\"accuracy of the model is {}\".format(borne_svm.score(Test_x, test_y)))\n",
    "print('f1 score of SVM is {}'.format(metrics.f1_score(test_y, pred, average='weighted')))\n",
    "print('precision score of SVM is {}'.format(metrics.precision_score(test_y, pred, average=\"weighted\")))"
   ]
  },
  {
   "cell_type": "code",
   "execution_count": 120,
   "metadata": {},
   "outputs": [
    {
     "data": {
      "text/plain": [
       "RandomForestClassifier(bootstrap=True, class_weight=None, criterion='entropy',\n",
       "            max_depth=None, max_features='auto', max_leaf_nodes=None,\n",
       "            min_impurity_decrease=0.0, min_impurity_split=None,\n",
       "            min_samples_leaf=1, min_samples_split=2,\n",
       "            min_weight_fraction_leaf=0.0, n_estimators=500, n_jobs=-1,\n",
       "            oob_score=False, random_state=1, verbose=0, warm_start=False)"
      ]
     },
     "execution_count": 120,
     "metadata": {},
     "output_type": "execute_result"
    }
   ],
   "source": [
    "#random forest\n",
    "# Initialize a Random Forest classifier with 500 trees\n",
    "forest = RandomForestClassifier(n_estimators = 500, criterion='entropy', n_jobs = -1, random_state = 1) \n",
    "forest.fit(Train_x, train_y)"
   ]
  },
  {
   "cell_type": "code",
   "execution_count": 121,
   "metadata": {},
   "outputs": [
    {
     "name": "stdout",
     "output_type": "stream",
     "text": [
      "f1 score of RF is 0.9380383195131912\n",
      "precision score of RF is 0.9392516175971092\n"
     ]
    }
   ],
   "source": [
    "#svm.support_vectors_\n",
    "pred = forest.predict(Test_x)\n",
    "print('f1 score of RF is {}'.format(metrics.f1_score(test_y, pred, average='weighted')))\n",
    "print('precision score of RF is {}'.format(metrics.precision_score(test_y, pred, average=\"weighted\")))"
   ]
  },
  {
   "cell_type": "markdown",
   "metadata": {},
   "source": [
    "## Exercise tweets anlysis"
   ]
  },
  {
   "cell_type": "code",
   "execution_count": 122,
   "metadata": {},
   "outputs": [
    {
     "data": {
      "text/plain": [
       "array(['irrelevant', 'junk', 'relevant'], dtype=object)"
      ]
     },
     "execution_count": 122,
     "metadata": {},
     "output_type": "execute_result"
    }
   ],
   "source": [
    "count_vectorizer = CountVectorizer(analyzer=\"word\",tokenizer=nltk.word_tokenize, stop_words='english', max_df= 0.5, min_df=2,ngram_range=(1,3), max_features=None)\n",
    "encoder = LabelEncoder()\n",
    "tweets_exercies['label_data'] = encoder.fit_transform(tweets_exercies['label_data'])\n",
    "encoder.classes_"
   ]
  },
  {
   "cell_type": "code",
   "execution_count": 123,
   "metadata": {
    "collapsed": true
   },
   "outputs": [],
   "source": [
    "X, Y = getTransformedData(tweets_exercies, count_vectorizer)"
   ]
  },
  {
   "cell_type": "code",
   "execution_count": 124,
   "metadata": {},
   "outputs": [
    {
     "name": "stdout",
     "output_type": "stream",
     "text": [
      "(2447, 7362)\n",
      "(2447,)\n",
      "(1957, 7362)\n",
      "(1957,)\n",
      "(490, 7362)\n",
      "(490,)\n"
     ]
    }
   ],
   "source": [
    "print(X.shape)\n",
    "print(Y.shape)\n",
    "train_x, test_x, train_y, test_y = train_test_split(X, Y, test_size = 0.2) \n",
    "print(train_x.shape)\n",
    "print(train_y.shape)\n",
    "print(test_x.shape)\n",
    "print(test_y.shape)"
   ]
  },
  {
   "cell_type": "code",
   "execution_count": 128,
   "metadata": {},
   "outputs": [
    {
     "name": "stdout",
     "output_type": "stream",
     "text": [
      "accuracy of the model is 0.7061224489795919\n",
      "f1 score of SVM is 0.6932826890267522\n",
      "precision score of SVM is 0.7122473098828572\n"
     ]
    }
   ],
   "source": [
    "#TF-IDF transformation\n",
    "tfidf_transformer = TfidfTransformer()\n",
    "Train_x = tfidf_transformer.fit_transform(train_x)\n",
    "Test_x = tfidf_transformer.fit_transform(test_x)\n",
    "exercises_svm = SVC(kernel='rbf', C=10, gamma = 1)\n",
    "exercises_svm.fit(Train_x, train_y)\n",
    "pred = exercises_svm.predict(Test_x)\n",
    "print(\"accuracy of the model is {}\".format(exercises_svm.score(Test_x, test_y)))\n",
    "print('f1 score of SVM is {}'.format(metrics.f1_score(test_y, pred, average='weighted')))\n",
    "print('precision score of SVM is {}'.format(metrics.precision_score(test_y, pred, average=\"weighted\")))"
   ]
  },
  {
   "cell_type": "code",
   "execution_count": 133,
   "metadata": {},
   "outputs": [
    {
     "name": "stdout",
     "output_type": "stream",
     "text": [
      "f1 score of RF is 0.6677139228435949\n",
      "precision score of RF is 0.7007935201730461\n"
     ]
    }
   ],
   "source": [
    "#random forest\n",
    "# Initialize a Random Forest classifier with 500 trees\n",
    "exercises_forest = RandomForestClassifier(n_estimators = 500, criterion='entropy', n_jobs = -1, random_state = 1) \n",
    "exercises_forest.fit(Train_x, train_y)\n",
    "pred = exercises_forest.predict(Test_x)\n",
    "print('f1 score of RF is {}'.format(metrics.f1_score(test_y, pred, average='weighted')))\n",
    "print('precision score of RF is {}'.format(metrics.precision_score(test_y, pred, average=\"weighted\")))"
   ]
  },
  {
   "cell_type": "code",
   "execution_count": 1,
   "metadata": {
    "collapsed": true
   },
   "outputs": [],
   "source": [
    "# from nltk.tokenize import RegexpTokenizer\n",
    "#from shallowlearn.models import GensimFastText\n",
    "#from shallowlearn.models import FastText\n",
    "\n",
    "# tokenizer = RegexpTokenizer(r'\\w+', discard_empty= True)\n",
    "# tokenizer.tokenize('//t.co/0hzfekfrm2 E@NicholasUnder 12323 @machineiv dip them alive in  //t.co/2ujcc5lx5c')\n",
    "# re.sub(r\"(@[A-Za-z0-9]+)|([^0-9A-Za-z \\t])|(\\w+:\\/\\/\\S+)\",'','Set of 10 Furniture Pumpkin Knob https://t.co')\n",
    "# \"(@[A-Za-z0-9]+)|([^0-9A-Za-z \\t])|(\\w+:\\/\\/\\S+)\"\n",
    "# tokenizer = RegexpTokenizer(r\"(@[A-Za-z0-9]+)|([^0-9A-Za-z \\t])|(\\w+:\\/\\/\\S+)\")\n",
    "# tokenizer.tokenize('Set of 10 Furniture Pumpkin Knob https://t.co')\n",
    "# food_tweets_pd.tweets_text.apply(lambda x: ' '.join(re.sub(r\"(@[A-Za-z0-9]+)|([^0-9A-Za-z \\t])|(\\w+:\\/\\/\\S+)\",'',x).split()))"
   ]
  },
  {
   "cell_type": "code",
   "execution_count": 2,
   "metadata": {
    "collapsed": true
   },
   "outputs": [],
   "source": [
    "# with open('classified_tweets.json') as f:\n",
    "#     line = f.readline() # read only the first tweet/line\n",
    "#     tweet = json.loads(json.dumps(line)) # load it as Python dict\n",
    "#     #print(json.dumps(tweet, indent=4))\n",
    "# x = eval(tweet[0])\n",
    "# type(x)\n",
    "# x.keys()\n",
    "# #filtering the tweets with food label if the label is food covert into string and then convert into json format\n",
    "# food_tweets = [json.loads(json.dumps(tweet_ele)) for tweet_ele in tweet if tweet_ele['food'] == 1]\n",
    "# print(len(food_tweets))\n",
    "# a = eval(food_tweets[1]['tweet'])\n",
    "# labels = [food_data['label_data'] for food_data in food_tweets]\n",
    "# #label encoding approach\n",
    "# #convert list of elements into pandas series object\n",
    "# labels_pd = pd.Series(labels)\n",
    "# #transform it into category variable\n",
    "# labels_pd = labels_pd.astype('category')\n",
    "# #encode the categorical values\n",
    "# target_labels = labels_pd.cat.codes\n",
    "# #approach2 label emcoder scikit - learning\n",
    "# from sklearn.preprocessing import LabelEncoder\n",
    "# encoder = LabelEncoder()\n",
    "# food_labeled_list = encoder.fit_transform(labels)\n",
    "# #binarize encoder\n",
    "# from sklearn.preprocessing import LabelBinarizer\n",
    "# binencoder = LabelBinarizer()\n",
    "# food_binary_labels = binencoder.fit_transform(labels)"
   ]
  }
 ],
 "metadata": {
  "kernelspec": {
   "display_name": "Python 3",
   "language": "python",
   "name": "python3"
  },
  "language_info": {
   "codemirror_mode": {
    "name": "ipython",
    "version": 3
   },
   "file_extension": ".py",
   "mimetype": "text/x-python",
   "name": "python",
   "nbconvert_exporter": "python",
   "pygments_lexer": "ipython3",
   "version": "3.5.2"
  }
 },
 "nbformat": 4,
 "nbformat_minor": 2
}
